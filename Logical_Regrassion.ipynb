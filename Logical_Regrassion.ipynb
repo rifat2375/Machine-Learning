{
  "nbformat": 4,
  "nbformat_minor": 0,
  "metadata": {
    "colab": {
      "name": "Logical Regrassion.ipynb",
      "provenance": [],
      "authorship_tag": "ABX9TyMvQvA5Dh86DGQG+t+4hHjI",
      "include_colab_link": true
    },
    "kernelspec": {
      "name": "python3",
      "display_name": "Python 3"
    }
  },
  "cells": [
    {
      "cell_type": "markdown",
      "metadata": {
        "id": "view-in-github",
        "colab_type": "text"
      },
      "source": [
        "<a href=\"https://colab.research.google.com/github/rifat2375/Machine-Learning/blob/main/Logical_Regrassion.ipynb\" target=\"_parent\"><img src=\"https://colab.research.google.com/assets/colab-badge.svg\" alt=\"Open In Colab\"/></a>"
      ]
    },
    {
      "cell_type": "code",
      "metadata": {
        "id": "NyMVLxOYdTO4"
      },
      "source": [
        "import numpy as np\r\n",
        "import matplotlib.pyplot as plt\r\n",
        "import pandas as pd"
      ],
      "execution_count": 99,
      "outputs": []
    },
    {
      "cell_type": "code",
      "metadata": {
        "id": "5IQh5qjt2LO3"
      },
      "source": [
        "dataset=pd.read_csv(\"/content/Movie_classification2375.csv\")"
      ],
      "execution_count": 100,
      "outputs": []
    },
    {
      "cell_type": "code",
      "metadata": {
        "colab": {
          "base_uri": "https://localhost:8080/"
        },
        "id": "Ft-2w_jSBHML",
        "outputId": "c1a3b242-4025-4aa6-c7aa-3c12f77847b8"
      },
      "source": [
        "dataset.isnull().sum()"
      ],
      "execution_count": 101,
      "outputs": [
        {
          "output_type": "execute_result",
          "data": {
            "text/plain": [
              "Marketing expense      0\n",
              "Production expense     0\n",
              "Multiplex coverage     0\n",
              "Budget                 0\n",
              "Movie_length           0\n",
              "Lead_ Actor_Rating     0\n",
              "Lead_Actress_rating    0\n",
              "Director_rating        0\n",
              "Producer_rating        0\n",
              "Critic_rating          0\n",
              "Trailer_views          0\n",
              "Time_taken             0\n",
              "Twitter_hastags        0\n",
              "Avg_age_actors         0\n",
              "Num_multiplex          0\n",
              "Collection             0\n",
              "Start_Tech_Oscar       0\n",
              "Genre                  0\n",
              "dtype: int64"
            ]
          },
          "metadata": {
            "tags": []
          },
          "execution_count": 101
        }
      ]
    },
    {
      "cell_type": "code",
      "metadata": {
        "colab": {
          "base_uri": "https://localhost:8080/",
          "height": 456
        },
        "id": "pijXTGby2i4Q",
        "outputId": "45933d81-1b6e-4d66-9f2a-9d5aba6155d5"
      },
      "source": [
        "dataset"
      ],
      "execution_count": 106,
      "outputs": [
        {
          "output_type": "execute_result",
          "data": {
            "text/html": [
              "<div>\n",
              "<style scoped>\n",
              "    .dataframe tbody tr th:only-of-type {\n",
              "        vertical-align: middle;\n",
              "    }\n",
              "\n",
              "    .dataframe tbody tr th {\n",
              "        vertical-align: top;\n",
              "    }\n",
              "\n",
              "    .dataframe thead th {\n",
              "        text-align: right;\n",
              "    }\n",
              "</style>\n",
              "<table border=\"1\" class=\"dataframe\">\n",
              "  <thead>\n",
              "    <tr style=\"text-align: right;\">\n",
              "      <th></th>\n",
              "      <th>Marketing expense</th>\n",
              "      <th>Production expense</th>\n",
              "      <th>Multiplex coverage</th>\n",
              "      <th>Budget</th>\n",
              "      <th>Movie_length</th>\n",
              "      <th>Lead_ Actor_Rating</th>\n",
              "      <th>Lead_Actress_rating</th>\n",
              "      <th>Director_rating</th>\n",
              "      <th>Producer_rating</th>\n",
              "      <th>Critic_rating</th>\n",
              "      <th>Trailer_views</th>\n",
              "      <th>Time_taken</th>\n",
              "      <th>Twitter_hastags</th>\n",
              "      <th>Avg_age_actors</th>\n",
              "      <th>Num_multiplex</th>\n",
              "      <th>Collection</th>\n",
              "      <th>Start_Tech_Oscar</th>\n",
              "      <th>Genre</th>\n",
              "    </tr>\n",
              "  </thead>\n",
              "  <tbody>\n",
              "    <tr>\n",
              "      <th>0</th>\n",
              "      <td>20.1264</td>\n",
              "      <td>59.62</td>\n",
              "      <td>0.462</td>\n",
              "      <td>36524.125</td>\n",
              "      <td>138.7</td>\n",
              "      <td>7.825</td>\n",
              "      <td>8.095</td>\n",
              "      <td>7.910</td>\n",
              "      <td>7.995</td>\n",
              "      <td>7.94</td>\n",
              "      <td>527367</td>\n",
              "      <td>109.60</td>\n",
              "      <td>223.840</td>\n",
              "      <td>23</td>\n",
              "      <td>494</td>\n",
              "      <td>48000</td>\n",
              "      <td>1</td>\n",
              "      <td>Thriller</td>\n",
              "    </tr>\n",
              "    <tr>\n",
              "      <th>1</th>\n",
              "      <td>20.5462</td>\n",
              "      <td>69.14</td>\n",
              "      <td>0.531</td>\n",
              "      <td>35668.655</td>\n",
              "      <td>152.4</td>\n",
              "      <td>7.505</td>\n",
              "      <td>7.650</td>\n",
              "      <td>7.440</td>\n",
              "      <td>7.470</td>\n",
              "      <td>7.44</td>\n",
              "      <td>494055</td>\n",
              "      <td>146.64</td>\n",
              "      <td>243.456</td>\n",
              "      <td>42</td>\n",
              "      <td>462</td>\n",
              "      <td>43200</td>\n",
              "      <td>0</td>\n",
              "      <td>Drama</td>\n",
              "    </tr>\n",
              "    <tr>\n",
              "      <th>2</th>\n",
              "      <td>20.5458</td>\n",
              "      <td>69.14</td>\n",
              "      <td>0.531</td>\n",
              "      <td>39912.675</td>\n",
              "      <td>134.6</td>\n",
              "      <td>7.485</td>\n",
              "      <td>7.570</td>\n",
              "      <td>7.495</td>\n",
              "      <td>7.515</td>\n",
              "      <td>7.44</td>\n",
              "      <td>547051</td>\n",
              "      <td>147.88</td>\n",
              "      <td>2022.400</td>\n",
              "      <td>38</td>\n",
              "      <td>458</td>\n",
              "      <td>69400</td>\n",
              "      <td>1</td>\n",
              "      <td>Comedy</td>\n",
              "    </tr>\n",
              "    <tr>\n",
              "      <th>3</th>\n",
              "      <td>20.6474</td>\n",
              "      <td>59.36</td>\n",
              "      <td>0.542</td>\n",
              "      <td>38873.890</td>\n",
              "      <td>119.3</td>\n",
              "      <td>6.895</td>\n",
              "      <td>7.035</td>\n",
              "      <td>6.920</td>\n",
              "      <td>7.020</td>\n",
              "      <td>8.26</td>\n",
              "      <td>516279</td>\n",
              "      <td>185.36</td>\n",
              "      <td>225.344</td>\n",
              "      <td>45</td>\n",
              "      <td>472</td>\n",
              "      <td>66800</td>\n",
              "      <td>1</td>\n",
              "      <td>Drama</td>\n",
              "    </tr>\n",
              "    <tr>\n",
              "      <th>4</th>\n",
              "      <td>21.3810</td>\n",
              "      <td>59.36</td>\n",
              "      <td>0.542</td>\n",
              "      <td>39701.585</td>\n",
              "      <td>127.7</td>\n",
              "      <td>6.920</td>\n",
              "      <td>7.070</td>\n",
              "      <td>6.815</td>\n",
              "      <td>7.070</td>\n",
              "      <td>8.26</td>\n",
              "      <td>531448</td>\n",
              "      <td>176.48</td>\n",
              "      <td>225.792</td>\n",
              "      <td>55</td>\n",
              "      <td>395</td>\n",
              "      <td>72400</td>\n",
              "      <td>1</td>\n",
              "      <td>Drama</td>\n",
              "    </tr>\n",
              "    <tr>\n",
              "      <th>...</th>\n",
              "      <td>...</td>\n",
              "      <td>...</td>\n",
              "      <td>...</td>\n",
              "      <td>...</td>\n",
              "      <td>...</td>\n",
              "      <td>...</td>\n",
              "      <td>...</td>\n",
              "      <td>...</td>\n",
              "      <td>...</td>\n",
              "      <td>...</td>\n",
              "      <td>...</td>\n",
              "      <td>...</td>\n",
              "      <td>...</td>\n",
              "      <td>...</td>\n",
              "      <td>...</td>\n",
              "      <td>...</td>\n",
              "      <td>...</td>\n",
              "      <td>...</td>\n",
              "    </tr>\n",
              "    <tr>\n",
              "      <th>501</th>\n",
              "      <td>21.2526</td>\n",
              "      <td>78.86</td>\n",
              "      <td>0.427</td>\n",
              "      <td>36624.115</td>\n",
              "      <td>142.6</td>\n",
              "      <td>8.680</td>\n",
              "      <td>8.775</td>\n",
              "      <td>8.620</td>\n",
              "      <td>8.970</td>\n",
              "      <td>6.80</td>\n",
              "      <td>492480</td>\n",
              "      <td>186.96</td>\n",
              "      <td>243.584</td>\n",
              "      <td>27</td>\n",
              "      <td>561</td>\n",
              "      <td>44800</td>\n",
              "      <td>0</td>\n",
              "      <td>Action</td>\n",
              "    </tr>\n",
              "    <tr>\n",
              "      <th>502</th>\n",
              "      <td>20.9054</td>\n",
              "      <td>78.86</td>\n",
              "      <td>0.427</td>\n",
              "      <td>33996.600</td>\n",
              "      <td>150.2</td>\n",
              "      <td>8.780</td>\n",
              "      <td>8.945</td>\n",
              "      <td>8.770</td>\n",
              "      <td>8.930</td>\n",
              "      <td>7.80</td>\n",
              "      <td>482875</td>\n",
              "      <td>132.24</td>\n",
              "      <td>263.296</td>\n",
              "      <td>20</td>\n",
              "      <td>600</td>\n",
              "      <td>41200</td>\n",
              "      <td>0</td>\n",
              "      <td>Action</td>\n",
              "    </tr>\n",
              "    <tr>\n",
              "      <th>503</th>\n",
              "      <td>21.2152</td>\n",
              "      <td>78.86</td>\n",
              "      <td>0.427</td>\n",
              "      <td>38751.680</td>\n",
              "      <td>164.5</td>\n",
              "      <td>8.830</td>\n",
              "      <td>8.970</td>\n",
              "      <td>8.855</td>\n",
              "      <td>9.010</td>\n",
              "      <td>7.80</td>\n",
              "      <td>532239</td>\n",
              "      <td>109.56</td>\n",
              "      <td>243.824</td>\n",
              "      <td>31</td>\n",
              "      <td>576</td>\n",
              "      <td>47800</td>\n",
              "      <td>0</td>\n",
              "      <td>Comedy</td>\n",
              "    </tr>\n",
              "    <tr>\n",
              "      <th>504</th>\n",
              "      <td>22.1918</td>\n",
              "      <td>78.86</td>\n",
              "      <td>0.427</td>\n",
              "      <td>37740.670</td>\n",
              "      <td>162.8</td>\n",
              "      <td>8.730</td>\n",
              "      <td>8.845</td>\n",
              "      <td>8.800</td>\n",
              "      <td>8.845</td>\n",
              "      <td>6.80</td>\n",
              "      <td>496077</td>\n",
              "      <td>158.80</td>\n",
              "      <td>303.520</td>\n",
              "      <td>47</td>\n",
              "      <td>607</td>\n",
              "      <td>44000</td>\n",
              "      <td>0</td>\n",
              "      <td>Comedy</td>\n",
              "    </tr>\n",
              "    <tr>\n",
              "      <th>505</th>\n",
              "      <td>20.9482</td>\n",
              "      <td>78.86</td>\n",
              "      <td>0.427</td>\n",
              "      <td>33496.650</td>\n",
              "      <td>154.3</td>\n",
              "      <td>8.640</td>\n",
              "      <td>8.880</td>\n",
              "      <td>8.680</td>\n",
              "      <td>8.790</td>\n",
              "      <td>6.80</td>\n",
              "      <td>518438</td>\n",
              "      <td>205.60</td>\n",
              "      <td>203.040</td>\n",
              "      <td>45</td>\n",
              "      <td>604</td>\n",
              "      <td>38000</td>\n",
              "      <td>0</td>\n",
              "      <td>Comedy</td>\n",
              "    </tr>\n",
              "  </tbody>\n",
              "</table>\n",
              "<p>506 rows × 18 columns</p>\n",
              "</div>"
            ],
            "text/plain": [
              "     Marketing expense  Production expense  ...  Start_Tech_Oscar     Genre\n",
              "0              20.1264               59.62  ...                 1  Thriller\n",
              "1              20.5462               69.14  ...                 0     Drama\n",
              "2              20.5458               69.14  ...                 1    Comedy\n",
              "3              20.6474               59.36  ...                 1     Drama\n",
              "4              21.3810               59.36  ...                 1     Drama\n",
              "..                 ...                 ...  ...               ...       ...\n",
              "501            21.2526               78.86  ...                 0    Action\n",
              "502            20.9054               78.86  ...                 0    Action\n",
              "503            21.2152               78.86  ...                 0    Comedy\n",
              "504            22.1918               78.86  ...                 0    Comedy\n",
              "505            20.9482               78.86  ...                 0    Comedy\n",
              "\n",
              "[506 rows x 18 columns]"
            ]
          },
          "metadata": {
            "tags": []
          },
          "execution_count": 106
        }
      ]
    },
    {
      "cell_type": "code",
      "metadata": {
        "id": "l6muCHUmtptz"
      },
      "source": [
        "X = dataset.iloc[:, :-1].values\r\n",
        "y = dataset.iloc[:, 17].values"
      ],
      "execution_count": 107,
      "outputs": []
    },
    {
      "cell_type": "code",
      "metadata": {
        "colab": {
          "base_uri": "https://localhost:8080/"
        },
        "id": "p7USCTHWtruB",
        "outputId": "b016e20e-6d1d-4750-b12b-1590ba6a466f"
      },
      "source": [
        "X"
      ],
      "execution_count": 108,
      "outputs": [
        {
          "output_type": "execute_result",
          "data": {
            "text/plain": [
              "array([[2.01264e+01, 5.96200e+01, 4.62000e-01, ..., 4.94000e+02,\n",
              "        4.80000e+04, 1.00000e+00],\n",
              "       [2.05462e+01, 6.91400e+01, 5.31000e-01, ..., 4.62000e+02,\n",
              "        4.32000e+04, 0.00000e+00],\n",
              "       [2.05458e+01, 6.91400e+01, 5.31000e-01, ..., 4.58000e+02,\n",
              "        6.94000e+04, 1.00000e+00],\n",
              "       ...,\n",
              "       [2.12152e+01, 7.88600e+01, 4.27000e-01, ..., 5.76000e+02,\n",
              "        4.78000e+04, 0.00000e+00],\n",
              "       [2.21918e+01, 7.88600e+01, 4.27000e-01, ..., 6.07000e+02,\n",
              "        4.40000e+04, 0.00000e+00],\n",
              "       [2.09482e+01, 7.88600e+01, 4.27000e-01, ..., 6.04000e+02,\n",
              "        3.80000e+04, 0.00000e+00]])"
            ]
          },
          "metadata": {
            "tags": []
          },
          "execution_count": 108
        }
      ]
    },
    {
      "cell_type": "code",
      "metadata": {
        "colab": {
          "base_uri": "https://localhost:8080/"
        },
        "id": "hFxyxU8zt5Zx",
        "outputId": "d592566f-5d70-4a2b-b60b-83693038fe9f"
      },
      "source": [
        "y"
      ],
      "execution_count": 109,
      "outputs": [
        {
          "output_type": "execute_result",
          "data": {
            "text/plain": [
              "array(['Thriller', 'Drama', 'Comedy', 'Drama', 'Drama', 'Comedy',\n",
              "       'Thriller', 'Drama', 'Comedy', 'Thriller', 'Drama', 'Action',\n",
              "       'Action', 'Comedy', 'Comedy', 'Thriller', 'Comedy', 'Drama',\n",
              "       'Action', 'Action', 'Action', 'Comedy', 'Thriller', 'Drama',\n",
              "       'Drama', 'Thriller', 'Drama', 'Drama', 'Thriller', 'Thriller',\n",
              "       'Drama', 'Comedy', 'Thriller', 'Comedy', 'Comedy', 'Thriller',\n",
              "       'Comedy', 'Thriller', 'Thriller', 'Thriller', 'Thriller', 'Action',\n",
              "       'Thriller', 'Thriller', 'Thriller', 'Thriller', 'Drama',\n",
              "       'Thriller', 'Comedy', 'Action', 'Thriller', 'Drama', 'Thriller',\n",
              "       'Thriller', 'Comedy', 'Thriller', 'Drama', 'Drama', 'Comedy',\n",
              "       'Comedy', 'Thriller', 'Thriller', 'Comedy', 'Action', 'Action',\n",
              "       'Thriller', 'Action', 'Thriller', 'Thriller', 'Drama', 'Thriller',\n",
              "       'Action', 'Thriller', 'Drama', 'Thriller', 'Comedy', 'Comedy',\n",
              "       'Thriller', 'Drama', 'Action', 'Drama', 'Drama', 'Thriller',\n",
              "       'Drama', 'Drama', 'Thriller', 'Thriller', 'Comedy', 'Thriller',\n",
              "       'Comedy', 'Drama', 'Thriller', 'Drama', 'Action', 'Action',\n",
              "       'Thriller', 'Thriller', 'Thriller', 'Action', 'Thriller', 'Drama',\n",
              "       'Thriller', 'Action', 'Comedy', 'Comedy', 'Comedy', 'Drama',\n",
              "       'Action', 'Action', 'Comedy', 'Comedy', 'Thriller', 'Thriller',\n",
              "       'Thriller', 'Action', 'Comedy', 'Comedy', 'Action', 'Thriller',\n",
              "       'Thriller', 'Thriller', 'Action', 'Comedy', 'Drama', 'Thriller',\n",
              "       'Drama', 'Drama', 'Comedy', 'Comedy', 'Drama', 'Comedy', 'Comedy',\n",
              "       'Action', 'Action', 'Action', 'Thriller', 'Thriller', 'Comedy',\n",
              "       'Thriller', 'Drama', 'Drama', 'Comedy', 'Thriller', 'Comedy',\n",
              "       'Thriller', 'Thriller', 'Thriller', 'Comedy', 'Drama', 'Comedy',\n",
              "       'Thriller', 'Thriller', 'Comedy', 'Comedy', 'Action', 'Thriller',\n",
              "       'Thriller', 'Comedy', 'Thriller', 'Drama', 'Drama', 'Comedy',\n",
              "       'Drama', 'Thriller', 'Drama', 'Thriller', 'Thriller', 'Drama',\n",
              "       'Comedy', 'Action', 'Drama', 'Thriller', 'Thriller', 'Comedy',\n",
              "       'Thriller', 'Comedy', 'Drama', 'Drama', 'Comedy', 'Drama',\n",
              "       'Action', 'Thriller', 'Thriller', 'Drama', 'Drama', 'Drama',\n",
              "       'Drama', 'Thriller', 'Thriller', 'Thriller', 'Comedy', 'Comedy',\n",
              "       'Drama', 'Thriller', 'Thriller', 'Thriller', 'Action', 'Action',\n",
              "       'Drama', 'Comedy', 'Drama', 'Thriller', 'Action', 'Comedy',\n",
              "       'Thriller', 'Thriller', 'Thriller', 'Comedy', 'Comedy', 'Comedy',\n",
              "       'Comedy', 'Thriller', 'Thriller', 'Comedy', 'Comedy', 'Drama',\n",
              "       'Action', 'Comedy', 'Comedy', 'Comedy', 'Thriller', 'Comedy',\n",
              "       'Action', 'Thriller', 'Drama', 'Thriller', 'Action', 'Thriller',\n",
              "       'Drama', 'Comedy', 'Comedy', 'Comedy', 'Thriller', 'Comedy',\n",
              "       'Thriller', 'Comedy', 'Action', 'Thriller', 'Action', 'Action',\n",
              "       'Comedy', 'Comedy', 'Thriller', 'Thriller', 'Comedy', 'Comedy',\n",
              "       'Comedy', 'Thriller', 'Thriller', 'Comedy', 'Thriller', 'Drama',\n",
              "       'Action', 'Thriller', 'Thriller', 'Comedy', 'Thriller', 'Thriller',\n",
              "       'Thriller', 'Thriller', 'Drama', 'Action', 'Thriller', 'Comedy',\n",
              "       'Thriller', 'Comedy', 'Thriller', 'Comedy', 'Drama', 'Action',\n",
              "       'Comedy', 'Thriller', 'Thriller', 'Thriller', 'Thriller',\n",
              "       'Thriller', 'Drama', 'Thriller', 'Thriller', 'Drama', 'Comedy',\n",
              "       'Comedy', 'Drama', 'Drama', 'Action', 'Comedy', 'Comedy', 'Drama',\n",
              "       'Thriller', 'Comedy', 'Thriller', 'Comedy', 'Thriller', 'Thriller',\n",
              "       'Drama', 'Thriller', 'Comedy', 'Comedy', 'Drama', 'Drama',\n",
              "       'Thriller', 'Thriller', 'Action', 'Comedy', 'Thriller', 'Comedy',\n",
              "       'Thriller', 'Action', 'Thriller', 'Comedy', 'Thriller', 'Thriller',\n",
              "       'Comedy', 'Comedy', 'Drama', 'Thriller', 'Thriller', 'Thriller',\n",
              "       'Comedy', 'Action', 'Thriller', 'Drama', 'Comedy', 'Comedy',\n",
              "       'Thriller', 'Comedy', 'Thriller', 'Comedy', 'Drama', 'Comedy',\n",
              "       'Thriller', 'Drama', 'Comedy', 'Comedy', 'Action', 'Comedy',\n",
              "       'Thriller', 'Thriller', 'Thriller', 'Drama', 'Comedy', 'Comedy',\n",
              "       'Thriller', 'Action', 'Thriller', 'Drama', 'Thriller', 'Drama',\n",
              "       'Comedy', 'Comedy', 'Thriller', 'Thriller', 'Thriller', 'Drama',\n",
              "       'Comedy', 'Thriller', 'Comedy', 'Drama', 'Action', 'Drama',\n",
              "       'Comedy', 'Thriller', 'Drama', 'Action', 'Thriller', 'Thriller',\n",
              "       'Drama', 'Drama', 'Thriller', 'Thriller', 'Comedy', 'Comedy',\n",
              "       'Comedy', 'Comedy', 'Drama', 'Comedy', 'Comedy', 'Comedy', 'Drama',\n",
              "       'Action', 'Comedy', 'Action', 'Thriller', 'Drama', 'Thriller',\n",
              "       'Action', 'Thriller', 'Action', 'Drama', 'Action', 'Thriller',\n",
              "       'Thriller', 'Comedy', 'Thriller', 'Comedy', 'Action', 'Thriller',\n",
              "       'Comedy', 'Drama', 'Thriller', 'Drama', 'Comedy', 'Thriller',\n",
              "       'Thriller', 'Comedy', 'Thriller', 'Thriller', 'Thriller',\n",
              "       'Thriller', 'Drama', 'Thriller', 'Comedy', 'Comedy', 'Thriller',\n",
              "       'Thriller', 'Comedy', 'Thriller', 'Action', 'Comedy', 'Comedy',\n",
              "       'Action', 'Comedy', 'Comedy', 'Drama', 'Comedy', 'Drama', 'Comedy',\n",
              "       'Drama', 'Thriller', 'Comedy', 'Thriller', 'Drama', 'Comedy',\n",
              "       'Action', 'Comedy', 'Action', 'Thriller', 'Comedy', 'Comedy',\n",
              "       'Comedy', 'Comedy', 'Action', 'Thriller', 'Thriller', 'Action',\n",
              "       'Thriller', 'Comedy', 'Comedy', 'Comedy', 'Comedy', 'Drama',\n",
              "       'Comedy', 'Comedy', 'Thriller', 'Thriller', 'Thriller', 'Thriller',\n",
              "       'Comedy', 'Thriller', 'Drama', 'Thriller', 'Comedy', 'Thriller',\n",
              "       'Comedy', 'Action', 'Comedy', 'Comedy', 'Action', 'Comedy',\n",
              "       'Comedy', 'Thriller', 'Action', 'Action', 'Action', 'Action',\n",
              "       'Drama', 'Thriller', 'Drama', 'Drama', 'Thriller', 'Thriller',\n",
              "       'Comedy', 'Drama', 'Action', 'Drama', 'Action', 'Comedy', 'Comedy',\n",
              "       'Comedy', 'Comedy', 'Action', 'Comedy', 'Thriller', 'Thriller',\n",
              "       'Thriller', 'Action', 'Thriller', 'Drama', 'Thriller', 'Drama',\n",
              "       'Drama', 'Action', 'Action', 'Comedy', 'Comedy', 'Comedy'],\n",
              "      dtype=object)"
            ]
          },
          "metadata": {
            "tags": []
          },
          "execution_count": 109
        }
      ]
    },
    {
      "cell_type": "code",
      "metadata": {
        "id": "jmJwYedbuHNY"
      },
      "source": [
        "from sklearn.model_selection import train_test_split\r\n",
        "X_train, X_test, y_train, y_test = train_test_split(X, y, test_size = 0.25)"
      ],
      "execution_count": 127,
      "outputs": []
    },
    {
      "cell_type": "code",
      "metadata": {
        "colab": {
          "base_uri": "https://localhost:8080/"
        },
        "id": "69UIh6fV3cZW",
        "outputId": "364fdac5-e6aa-4ca1-c23b-3cb11bbab62b"
      },
      "source": [
        "from sklearn.ensemble import RandomForestClassifier\r\n",
        "classifier = RandomForestClassifier(n_estimators = 50)\r\n",
        "classifier.fit(X_train, y_train)"
      ],
      "execution_count": 128,
      "outputs": [
        {
          "output_type": "execute_result",
          "data": {
            "text/plain": [
              "RandomForestClassifier(bootstrap=True, ccp_alpha=0.0, class_weight=None,\n",
              "                       criterion='gini', max_depth=None, max_features='auto',\n",
              "                       max_leaf_nodes=None, max_samples=None,\n",
              "                       min_impurity_decrease=0.0, min_impurity_split=None,\n",
              "                       min_samples_leaf=1, min_samples_split=2,\n",
              "                       min_weight_fraction_leaf=0.0, n_estimators=50,\n",
              "                       n_jobs=None, oob_score=False, random_state=None,\n",
              "                       verbose=0, warm_start=False)"
            ]
          },
          "metadata": {
            "tags": []
          },
          "execution_count": 128
        }
      ]
    },
    {
      "cell_type": "code",
      "metadata": {
        "id": "v7zPL_lW3kQd"
      },
      "source": [
        "y_pred = classifier.predict(X_test)"
      ],
      "execution_count": 129,
      "outputs": []
    },
    {
      "cell_type": "code",
      "metadata": {
        "colab": {
          "base_uri": "https://localhost:8080/"
        },
        "id": "-VuP_zkA3olD",
        "outputId": "73931c50-442e-457f-f10d-746dc201d2e6"
      },
      "source": [
        "from sklearn.metrics import classification_report, confusion_matrix, accuracy_score\r\n",
        "result = confusion_matrix(y_test, y_pred)\r\n",
        "print(\"Confusion Matrix:\")\r\n",
        "print(result)\r\n",
        "result1 = classification_report(y_test, y_pred)\r\n",
        "print(\"Classification Report:\",)\r\n",
        "print (result1)\r\n",
        "result2 = accuracy_score(y_test,y_pred)\r\n",
        "print(\"Accuracy:\",result2)"
      ],
      "execution_count": 130,
      "outputs": [
        {
          "output_type": "stream",
          "text": [
            "Confusion Matrix:\n",
            "[[ 1 10  3  4]\n",
            " [ 2 18  5 23]\n",
            " [ 1  3  0 21]\n",
            " [ 0 14  2 20]]\n",
            "Classification Report:\n",
            "              precision    recall  f1-score   support\n",
            "\n",
            "      Action       0.25      0.06      0.09        18\n",
            "      Comedy       0.40      0.38      0.39        48\n",
            "       Drama       0.00      0.00      0.00        25\n",
            "    Thriller       0.29      0.56      0.38        36\n",
            "\n",
            "    accuracy                           0.31       127\n",
            "   macro avg       0.24      0.25      0.22       127\n",
            "weighted avg       0.27      0.31      0.27       127\n",
            "\n",
            "Accuracy: 0.30708661417322836\n"
          ],
          "name": "stdout"
        }
      ]
    }
  ]
}